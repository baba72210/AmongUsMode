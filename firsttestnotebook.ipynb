{
 "cells": [
  {
   "cell_type": "code",
   "execution_count": 1,
   "id": "fe94bb98",
   "metadata": {
    "_cell_guid": "b1076dfc-b9ad-4769-8c92-a6c4dae69d19",
    "_uuid": "8f2839f25d086af736a60e9eeb907d3b93b6e0e5",
    "execution": {
     "iopub.execute_input": "2022-11-05T15:58:25.766737Z",
     "iopub.status.busy": "2022-11-05T15:58:25.766444Z",
     "iopub.status.idle": "2022-11-05T15:58:25.775880Z",
     "shell.execute_reply": "2022-11-05T15:58:25.775351Z"
    },
    "papermill": {
     "duration": 0.019604,
     "end_time": "2022-11-05T15:58:25.777689",
     "exception": false,
     "start_time": "2022-11-05T15:58:25.758085",
     "status": "completed"
    },
    "tags": []
   },
   "outputs": [
    {
     "name": "stdout",
     "output_type": "stream",
     "text": [
      "/kaggle/input/recommender-system-2022-challenge-polimi/alg_sample_submission.csv\n",
      "/kaggle/input/recommender-system-2022-challenge-polimi/data_ICM_type.csv\n",
      "/kaggle/input/recommender-system-2022-challenge-polimi/data_target_users_test.csv\n",
      "/kaggle/input/recommender-system-2022-challenge-polimi/interactions_and_impressions.csv\n",
      "/kaggle/input/recommender-system-2022-challenge-polimi/data_ICM_length.csv\n"
     ]
    }
   ],
   "source": [
    "# This Python 3 environment comes with many helpful analytics libraries installed\n",
    "# It is defined by the kaggle/python Docker image: https://github.com/kaggle/docker-python\n",
    "# For example, here's several helpful packages to load\n",
    "\n",
    "import numpy as np # linear algebra\n",
    "import pandas as pd # data processing, CSV file I/O (e.g. pd.read_csv)\n",
    "\n",
    "# Input data files are available in the read-only \"../input/\" directory\n",
    "# For example, running this (by clicking run or pressing Shift+Enter) will list all files under the input directory\n",
    "\n",
    "import os\n",
    "for dirname, _, filenames in os.walk('/kaggle/input'):\n",
    "    for filename in filenames:\n",
    "        print(os.path.join(dirname, filename))\n",
    "\n",
    "# You can write up to 20GB to the current directory (/kaggle/working/) that gets preserved as output when you create a version using \"Save & Run All\" \n",
    "# You can also write temporary files to /kaggle/temp/, but they won't be saved outside of the current session"
   ]
  },
  {
   "cell_type": "code",
   "execution_count": 2,
   "id": "8f88e80e",
   "metadata": {
    "execution": {
     "iopub.execute_input": "2022-11-05T15:58:25.791681Z",
     "iopub.status.busy": "2022-11-05T15:58:25.791300Z",
     "iopub.status.idle": "2022-11-05T15:58:25.858131Z",
     "shell.execute_reply": "2022-11-05T15:58:25.857286Z"
    },
    "papermill": {
     "duration": 0.076157,
     "end_time": "2022-11-05T15:58:25.860258",
     "exception": false,
     "start_time": "2022-11-05T15:58:25.784101",
     "status": "completed"
    },
    "tags": []
   },
   "outputs": [],
   "source": [
    "import scipy.sparse as sps\n",
    "import matplotlib.pyplot as pyplot"
   ]
  },
  {
   "cell_type": "code",
   "execution_count": 3,
   "id": "ab4c8dff",
   "metadata": {
    "execution": {
     "iopub.execute_input": "2022-11-05T15:58:25.874191Z",
     "iopub.status.busy": "2022-11-05T15:58:25.873899Z",
     "iopub.status.idle": "2022-11-05T15:58:28.000126Z",
     "shell.execute_reply": "2022-11-05T15:58:27.999222Z"
    },
    "papermill": {
     "duration": 2.134973,
     "end_time": "2022-11-05T15:58:28.001807",
     "exception": false,
     "start_time": "2022-11-05T15:58:25.866834",
     "status": "completed"
    },
    "tags": []
   },
   "outputs": [
    {
     "name": "stderr",
     "output_type": "stream",
     "text": [
      "/opt/conda/lib/python3.7/site-packages/IPython/core/interactiveshell.py:3552: DtypeWarning: Columns (2) have mixed types.Specify dtype option on import or set low_memory=False.\n",
      "  exec(code_obj, self.user_global_ns, self.user_ns)\n"
     ]
    }
   ],
   "source": [
    "URM_dataframe = pd.read_csv(\"/kaggle/input/recommender-system-2022-challenge-polimi/interactions_and_impressions.csv\")"
   ]
  },
  {
   "cell_type": "code",
   "execution_count": 4,
   "id": "673eb130",
   "metadata": {
    "execution": {
     "iopub.execute_input": "2022-11-05T15:58:28.015458Z",
     "iopub.status.busy": "2022-11-05T15:58:28.015118Z",
     "iopub.status.idle": "2022-11-05T15:58:28.034492Z",
     "shell.execute_reply": "2022-11-05T15:58:28.033571Z"
    },
    "papermill": {
     "duration": 0.028002,
     "end_time": "2022-11-05T15:58:28.036139",
     "exception": false,
     "start_time": "2022-11-05T15:58:28.008137",
     "status": "completed"
    },
    "tags": []
   },
   "outputs": [
    {
     "data": {
      "text/html": [
       "<div>\n",
       "<style scoped>\n",
       "    .dataframe tbody tr th:only-of-type {\n",
       "        vertical-align: middle;\n",
       "    }\n",
       "\n",
       "    .dataframe tbody tr th {\n",
       "        vertical-align: top;\n",
       "    }\n",
       "\n",
       "    .dataframe thead th {\n",
       "        text-align: right;\n",
       "    }\n",
       "</style>\n",
       "<table border=\"1\" class=\"dataframe\">\n",
       "  <thead>\n",
       "    <tr style=\"text-align: right;\">\n",
       "      <th></th>\n",
       "      <th>UserID</th>\n",
       "      <th>ItemID</th>\n",
       "      <th>Impressions</th>\n",
       "      <th>Data</th>\n",
       "    </tr>\n",
       "  </thead>\n",
       "  <tbody>\n",
       "    <tr>\n",
       "      <th>0</th>\n",
       "      <td>0</td>\n",
       "      <td>11</td>\n",
       "      <td>0,1,2,3,4,5,6,7,8,9,10,11,12,13,14,15,16,17,18,19</td>\n",
       "      <td>1</td>\n",
       "    </tr>\n",
       "    <tr>\n",
       "      <th>1</th>\n",
       "      <td>0</td>\n",
       "      <td>21</td>\n",
       "      <td>NaN</td>\n",
       "      <td>0</td>\n",
       "    </tr>\n",
       "    <tr>\n",
       "      <th>2</th>\n",
       "      <td>0</td>\n",
       "      <td>21</td>\n",
       "      <td>NaN</td>\n",
       "      <td>0</td>\n",
       "    </tr>\n",
       "    <tr>\n",
       "      <th>3</th>\n",
       "      <td>0</td>\n",
       "      <td>21</td>\n",
       "      <td>20,21,22,23,24,25,26,27,28,29</td>\n",
       "      <td>0</td>\n",
       "    </tr>\n",
       "    <tr>\n",
       "      <th>4</th>\n",
       "      <td>0</td>\n",
       "      <td>21</td>\n",
       "      <td>NaN</td>\n",
       "      <td>1</td>\n",
       "    </tr>\n",
       "    <tr>\n",
       "      <th>...</th>\n",
       "      <td>...</td>\n",
       "      <td>...</td>\n",
       "      <td>...</td>\n",
       "      <td>...</td>\n",
       "    </tr>\n",
       "    <tr>\n",
       "      <th>5826501</th>\n",
       "      <td>41628</td>\n",
       "      <td>20448</td>\n",
       "      <td>NaN</td>\n",
       "      <td>0</td>\n",
       "    </tr>\n",
       "    <tr>\n",
       "      <th>5826502</th>\n",
       "      <td>41628</td>\n",
       "      <td>20896</td>\n",
       "      <td>NaN</td>\n",
       "      <td>1</td>\n",
       "    </tr>\n",
       "    <tr>\n",
       "      <th>5826503</th>\n",
       "      <td>41628</td>\n",
       "      <td>21506</td>\n",
       "      <td>NaN</td>\n",
       "      <td>1</td>\n",
       "    </tr>\n",
       "    <tr>\n",
       "      <th>5826504</th>\n",
       "      <td>41628</td>\n",
       "      <td>22882</td>\n",
       "      <td>NaN</td>\n",
       "      <td>0</td>\n",
       "    </tr>\n",
       "    <tr>\n",
       "      <th>5826505</th>\n",
       "      <td>41628</td>\n",
       "      <td>23757</td>\n",
       "      <td>NaN</td>\n",
       "      <td>0</td>\n",
       "    </tr>\n",
       "  </tbody>\n",
       "</table>\n",
       "<p>5826506 rows × 4 columns</p>\n",
       "</div>"
      ],
      "text/plain": [
       "         UserID  ItemID                                        Impressions  \\\n",
       "0             0      11  0,1,2,3,4,5,6,7,8,9,10,11,12,13,14,15,16,17,18,19   \n",
       "1             0      21                                                NaN   \n",
       "2             0      21                                                NaN   \n",
       "3             0      21                      20,21,22,23,24,25,26,27,28,29   \n",
       "4             0      21                                                NaN   \n",
       "...         ...     ...                                                ...   \n",
       "5826501   41628   20448                                                NaN   \n",
       "5826502   41628   20896                                                NaN   \n",
       "5826503   41628   21506                                                NaN   \n",
       "5826504   41628   22882                                                NaN   \n",
       "5826505   41628   23757                                                NaN   \n",
       "\n",
       "         Data  \n",
       "0           1  \n",
       "1           0  \n",
       "2           0  \n",
       "3           0  \n",
       "4           1  \n",
       "...       ...  \n",
       "5826501     0  \n",
       "5826502     1  \n",
       "5826503     1  \n",
       "5826504     0  \n",
       "5826505     0  \n",
       "\n",
       "[5826506 rows x 4 columns]"
      ]
     },
     "execution_count": 4,
     "metadata": {},
     "output_type": "execute_result"
    }
   ],
   "source": [
    "URM_dataframe"
   ]
  },
  {
   "cell_type": "code",
   "execution_count": 5,
   "id": "6d390101",
   "metadata": {
    "execution": {
     "iopub.execute_input": "2022-11-05T15:58:28.049958Z",
     "iopub.status.busy": "2022-11-05T15:58:28.049680Z",
     "iopub.status.idle": "2022-11-05T15:58:28.389130Z",
     "shell.execute_reply": "2022-11-05T15:58:28.388176Z"
    },
    "papermill": {
     "duration": 0.348766,
     "end_time": "2022-11-05T15:58:28.391456",
     "exception": false,
     "start_time": "2022-11-05T15:58:28.042690",
     "status": "completed"
    },
    "tags": []
   },
   "outputs": [
    {
     "name": "stdout",
     "output_type": "stream",
     "text": [
      "The number of interactions is 5826506\n",
      "The number of users is 41629\n",
      "The number of items is 24507\n",
      "The number of items viewed is 2259027\n",
      "The number of details page openned is 3567479\n"
     ]
    }
   ],
   "source": [
    "print (\"The number of interactions is {}\".format(len(URM_dataframe)))\n",
    "print (\"The number of users is {}\".format(len(URM_dataframe[\"UserID\"].unique())))\n",
    "print (\"The number of items is {}\".format(len(URM_dataframe[\"ItemID\"].unique())))\n",
    "print (\"The number of items viewed is {}\".format(len(URM_dataframe.loc[(URM_dataframe[\"Data\"]==1)])))\n",
    "print (\"The number of details page openned is {}\".format(len(URM_dataframe.loc[(URM_dataframe[\"Data\"]==0)])))"
   ]
  },
  {
   "cell_type": "code",
   "execution_count": 6,
   "id": "2651ea14",
   "metadata": {
    "execution": {
     "iopub.execute_input": "2022-11-05T15:58:28.407949Z",
     "iopub.status.busy": "2022-11-05T15:58:28.407653Z",
     "iopub.status.idle": "2022-11-05T15:58:28.464662Z",
     "shell.execute_reply": "2022-11-05T15:58:28.463977Z"
    },
    "papermill": {
     "duration": 0.066704,
     "end_time": "2022-11-05T15:58:28.466588",
     "exception": false,
     "start_time": "2022-11-05T15:58:28.399884",
     "status": "completed"
    },
    "tags": []
   },
   "outputs": [],
   "source": [
    "mapped_id, original_id = pd.factorize(URM_dataframe[\"UserID\"].unique())\n",
    "user_original_ID_to_index = pd.Series(mapped_id, index=original_id)\n",
    "\n",
    "mapped_id, original_id = pd.factorize(URM_dataframe[\"ItemID\"].unique())\n",
    "item_original_ID_to_index = pd.Series(mapped_id, index=original_id)"
   ]
  },
  {
   "cell_type": "code",
   "execution_count": 7,
   "id": "dc016cca",
   "metadata": {
    "execution": {
     "iopub.execute_input": "2022-11-05T15:58:28.482691Z",
     "iopub.status.busy": "2022-11-05T15:58:28.482117Z",
     "iopub.status.idle": "2022-11-05T15:58:28.596178Z",
     "shell.execute_reply": "2022-11-05T15:58:28.595276Z"
    },
    "papermill": {
     "duration": 0.123704,
     "end_time": "2022-11-05T15:58:28.598148",
     "exception": false,
     "start_time": "2022-11-05T15:58:28.474444",
     "status": "completed"
    },
    "tags": []
   },
   "outputs": [
    {
     "data": {
      "text/plain": [
       "UserID          int64\n",
       "ItemID          int64\n",
       "Impressions    object\n",
       "Data            int64\n",
       "dtype: object"
      ]
     },
     "execution_count": 7,
     "metadata": {},
     "output_type": "execute_result"
    }
   ],
   "source": [
    "URM_dataframe[\"UserID\"] = URM_dataframe[\"UserID\"].map(user_original_ID_to_index)\n",
    "URM_dataframe[\"ItemID\"] = URM_dataframe[\"ItemID\"].map(item_original_ID_to_index)\n",
    "URM_dataframe.dtypes"
   ]
  },
  {
   "cell_type": "code",
   "execution_count": 8,
   "id": "cb93fd56",
   "metadata": {
    "execution": {
     "iopub.execute_input": "2022-11-05T15:58:28.613071Z",
     "iopub.status.busy": "2022-11-05T15:58:28.612759Z",
     "iopub.status.idle": "2022-11-05T15:58:28.652324Z",
     "shell.execute_reply": "2022-11-05T15:58:28.651727Z"
    },
    "papermill": {
     "duration": 0.048818,
     "end_time": "2022-11-05T15:58:28.653955",
     "exception": false,
     "start_time": "2022-11-05T15:58:28.605137",
     "status": "completed"
    },
    "tags": []
   },
   "outputs": [
    {
     "data": {
      "text/plain": [
       "<41629x24507 sparse matrix of type '<class 'numpy.int64'>'\n",
       "\twith 5826506 stored elements in COOrdinate format>"
      ]
     },
     "execution_count": 8,
     "metadata": {},
     "output_type": "execute_result"
    }
   ],
   "source": [
    "URM = sps.coo_matrix((URM_dataframe[\"Data\"].values, \n",
    "                          (URM_dataframe[\"UserID\"].values, URM_dataframe[\"ItemID\"].values)))\n",
    "URM"
   ]
  },
  {
   "cell_type": "code",
   "execution_count": 9,
   "id": "0f82895f",
   "metadata": {
    "execution": {
     "iopub.execute_input": "2022-11-05T15:58:28.668972Z",
     "iopub.status.busy": "2022-11-05T15:58:28.668449Z",
     "iopub.status.idle": "2022-11-05T15:58:28.911706Z",
     "shell.execute_reply": "2022-11-05T15:58:28.910681Z"
    },
    "papermill": {
     "duration": 0.252843,
     "end_time": "2022-11-05T15:58:28.913725",
     "exception": false,
     "start_time": "2022-11-05T15:58:28.660882",
     "status": "completed"
    },
    "tags": []
   },
   "outputs": [
    {
     "data": {
      "text/plain": [
       "<41629x24507 sparse matrix of type '<class 'numpy.int64'>'\n",
       "\twith 1554640 stored elements in Compressed Sparse Row format>"
      ]
     },
     "execution_count": 9,
     "metadata": {},
     "output_type": "execute_result"
    }
   ],
   "source": [
    "URM.tocsr()"
   ]
  },
  {
   "cell_type": "markdown",
   "id": "637954e5",
   "metadata": {
    "papermill": {
     "duration": 0.006754,
     "end_time": "2022-11-05T15:58:28.927636",
     "exception": false,
     "start_time": "2022-11-05T15:58:28.920882",
     "status": "completed"
    },
    "tags": []
   },
   "source": [
    "## As a reminder :\n",
    "*np.ediff1d()* The differences between consecutive elements of an array.\n",
    "\n",
    "**Compressed Row Matrix :**\n",
    "\n",
    "<img src=\"https://i.stack.imgur.com/12bPL.png\" style=\"width:500px;\">"
   ]
  },
  {
   "cell_type": "code",
   "execution_count": 10,
   "id": "aea65bdf",
   "metadata": {
    "execution": {
     "iopub.execute_input": "2022-11-05T15:58:28.944013Z",
     "iopub.status.busy": "2022-11-05T15:58:28.942850Z",
     "iopub.status.idle": "2022-11-05T15:58:29.042440Z",
     "shell.execute_reply": "2022-11-05T15:58:29.041514Z"
    },
    "papermill": {
     "duration": 0.110147,
     "end_time": "2022-11-05T15:58:29.044680",
     "exception": false,
     "start_time": "2022-11-05T15:58:28.934533",
     "status": "completed"
    },
    "tags": []
   },
   "outputs": [
    {
     "data": {
      "text/plain": [
       "array([      0,      65,    9546, ..., 1554601, 1554623, 1554640],\n",
       "      dtype=int32)"
      ]
     },
     "execution_count": 10,
     "metadata": {},
     "output_type": "execute_result"
    }
   ],
   "source": [
    "URM.tocsc().indptr"
   ]
  },
  {
   "cell_type": "markdown",
   "id": "cd63a750",
   "metadata": {
    "papermill": {
     "duration": 0.008739,
     "end_time": "2022-11-05T15:58:29.064366",
     "exception": false,
     "start_time": "2022-11-05T15:58:29.055627",
     "status": "completed"
    },
    "tags": []
   },
   "source": [
    "We can compute the number of interactions for each items by compute the difference in the index pointer of the CSC ( => number of NNZ)"
   ]
  },
  {
   "cell_type": "code",
   "execution_count": 11,
   "id": "0de5dddd",
   "metadata": {
    "execution": {
     "iopub.execute_input": "2022-11-05T15:58:29.084025Z",
     "iopub.status.busy": "2022-11-05T15:58:29.083656Z",
     "iopub.status.idle": "2022-11-05T15:58:29.184746Z",
     "shell.execute_reply": "2022-11-05T15:58:29.183067Z"
    },
    "papermill": {
     "duration": 0.113472,
     "end_time": "2022-11-05T15:58:29.186761",
     "exception": false,
     "start_time": "2022-11-05T15:58:29.073289",
     "status": "completed"
    },
    "tags": []
   },
   "outputs": [
    {
     "data": {
      "text/plain": [
       "array([  65, 9481, 6021, ...,   24,   22,   17], dtype=int32)"
      ]
     },
     "execution_count": 11,
     "metadata": {},
     "output_type": "execute_result"
    }
   ],
   "source": [
    "item_popularity = np.ediff1d(URM.tocsc().indptr)\n",
    "item_popularity"
   ]
  },
  {
   "cell_type": "code",
   "execution_count": 12,
   "id": "6cb6c791",
   "metadata": {
    "execution": {
     "iopub.execute_input": "2022-11-05T15:58:29.208983Z",
     "iopub.status.busy": "2022-11-05T15:58:29.207582Z",
     "iopub.status.idle": "2022-11-05T15:58:29.214903Z",
     "shell.execute_reply": "2022-11-05T15:58:29.214051Z"
    },
    "papermill": {
     "duration": 0.019896,
     "end_time": "2022-11-05T15:58:29.216695",
     "exception": false,
     "start_time": "2022-11-05T15:58:29.196799",
     "status": "completed"
    },
    "tags": []
   },
   "outputs": [
    {
     "data": {
      "text/plain": [
       "array([  12,   13,   13, ..., 5481, 6021, 9481], dtype=int32)"
      ]
     },
     "execution_count": 12,
     "metadata": {},
     "output_type": "execute_result"
    }
   ],
   "source": [
    "item_popularity = np.sort(item_popularity)\n",
    "item_popularity"
   ]
  },
  {
   "cell_type": "code",
   "execution_count": 13,
   "id": "4cf62edd",
   "metadata": {
    "execution": {
     "iopub.execute_input": "2022-11-05T15:58:29.235005Z",
     "iopub.status.busy": "2022-11-05T15:58:29.234651Z",
     "iopub.status.idle": "2022-11-05T15:58:29.418297Z",
     "shell.execute_reply": "2022-11-05T15:58:29.416662Z"
    },
    "papermill": {
     "duration": 0.196025,
     "end_time": "2022-11-05T15:58:29.420170",
     "exception": false,
     "start_time": "2022-11-05T15:58:29.224145",
     "status": "completed"
    },
    "tags": []
   },
   "outputs": [
    {
     "data": {
      "image/png": "[encoded data removed]",
      "text/plain": [
       "<Figure size 432x288 with 1 Axes>"
      ]
     },
     "metadata": {
      "needs_background": "light"
     },
     "output_type": "display_data"
    }
   ],
   "source": [
    "pyplot.plot(item_popularity, 'ro')\n",
    "pyplot.ylabel('Num Interactions ')\n",
    "pyplot.xlabel('Sorted Item')\n",
    "pyplot.show()"
   ]
  },
  {
   "cell_type": "code",
   "execution_count": 14,
   "id": "076f489b",
   "metadata": {
    "execution": {
     "iopub.execute_input": "2022-11-05T15:58:29.436106Z",
     "iopub.status.busy": "2022-11-05T15:58:29.435817Z",
     "iopub.status.idle": "2022-11-05T15:58:29.460523Z",
     "shell.execute_reply": "2022-11-05T15:58:29.459356Z"
    },
    "papermill": {
     "duration": 0.035009,
     "end_time": "2022-11-05T15:58:29.462619",
     "exception": false,
     "start_time": "2022-11-05T15:58:29.427610",
     "status": "completed"
    },
    "tags": []
   },
   "outputs": [
    {
     "name": "stdout",
     "output_type": "stream",
     "text": [
      "23091\n"
     ]
    },
    {
     "data": {
      "text/plain": [
       "23091"
      ]
     },
     "execution_count": 14,
     "metadata": {},
     "output_type": "execute_result"
    }
   ],
   "source": [
    "ICM_type_dataframe = pd.read_csv(\"/kaggle/input/recommender-system-2022-challenge-polimi/data_ICM_type.csv\")\n",
    "ICM_length_dataframe = pd.read_csv(\"/kaggle/input/recommender-system-2022-challenge-polimi/data_ICM_length.csv\")\n",
    "print(len(ICM_type_dataframe))\n",
    "len(ICM_length_dataframe)"
   ]
  },
  {
   "cell_type": "code",
   "execution_count": 15,
   "id": "2ce1df56",
   "metadata": {
    "execution": {
     "iopub.execute_input": "2022-11-05T15:58:29.479173Z",
     "iopub.status.busy": "2022-11-05T15:58:29.478870Z",
     "iopub.status.idle": "2022-11-05T15:58:29.511574Z",
     "shell.execute_reply": "2022-11-05T15:58:29.510592Z"
    },
    "papermill": {
     "duration": 0.043471,
     "end_time": "2022-11-05T15:58:29.513964",
     "exception": false,
     "start_time": "2022-11-05T15:58:29.470493",
     "status": "completed"
    },
    "tags": []
   },
   "outputs": [
    {
     "name": "stdout",
     "output_type": "stream",
     "text": [
      "Average per-item interactions over the whole dataset 63.44\n",
      "Average per-item interactions for the top 10% popular items 305.72\n",
      "Average per-item interactions for the least 10% popular items 22.21\n",
      "Average per-item interactions for the median 10% popular items 34.46\n"
     ]
    }
   ],
   "source": [
    "n_items = len(URM_dataframe[\"ItemID\"].unique())\n",
    "ten_percent = int(n_items/10)\n",
    "\n",
    "print(\"Average per-item interactions over the whole dataset {:.2f}\".\n",
    "      format(item_popularity.mean()))\n",
    "\n",
    "print(\"Average per-item interactions for the top 10% popular items {:.2f}\".\n",
    "      format(item_popularity[-ten_percent:].mean()))\n",
    "\n",
    "print(\"Average per-item interactions for the least 10% popular items {:.2f}\".\n",
    "      format(item_popularity[:ten_percent].mean()))\n",
    "\n",
    "print(\"Average per-item interactions for the median 10% popular items {:.2f}\".\n",
    "      format(item_popularity[int(n_items*0.45):int(n_items*0.55)].mean()))"
   ]
  },
  {
   "cell_type": "code",
   "execution_count": 16,
   "id": "5611da7a",
   "metadata": {
    "execution": {
     "iopub.execute_input": "2022-11-05T15:58:29.531138Z",
     "iopub.status.busy": "2022-11-05T15:58:29.530810Z",
     "iopub.status.idle": "2022-11-05T15:58:29.933218Z",
     "shell.execute_reply": "2022-11-05T15:58:29.931758Z"
    },
    "papermill": {
     "duration": 0.412465,
     "end_time": "2022-11-05T15:58:29.934876",
     "exception": false,
     "start_time": "2022-11-05T15:58:29.522411",
     "status": "completed"
    },
    "tags": []
   },
   "outputs": [
    {
     "data": {
      "image/png": "[encoded data removed]",
      "text/plain": [
       "<Figure size 432x288 with 1 Axes>"
      ]
     },
     "metadata": {
      "needs_background": "light"
     },
     "output_type": "display_data"
    }
   ],
   "source": [
    "user_activity = np.ediff1d(URM.tocsr().indptr)\n",
    "user_activity = np.sort(user_activity)\n",
    "\n",
    "\n",
    "pyplot.plot(user_activity, 'ro')\n",
    "pyplot.ylabel('Num Interactions ')\n",
    "pyplot.xlabel('Sorted User')\n",
    "pyplot.show()"
   ]
  },
  {
   "cell_type": "markdown",
   "id": "19ae59ee",
   "metadata": {
    "papermill": {
     "duration": 0.007552,
     "end_time": "2022-11-05T15:58:29.950349",
     "exception": false,
     "start_time": "2022-11-05T15:58:29.942797",
     "status": "completed"
    },
    "tags": []
   },
   "source": [
    "### In order to evaluate our recommender we have to define:\n",
    "* A splitting of the data in URM_train and URM_test\n",
    "* An evaluation metric\n",
    "* A function computing the evaluation for each user\n",
    "\n",
    "### The splitting of the data is very important to ensure your algorithm is evaluated in a realistic scenario by using test it has never seen. We create two splits:\n",
    "#### - Train data: we will use this to train our model\n",
    "#### - Test data: we will use this to evaluate our model"
   ]
  },
  {
   "cell_type": "code",
   "execution_count": 17,
   "id": "b4bbe06d",
   "metadata": {
    "execution": {
     "iopub.execute_input": "2022-11-05T15:58:29.970747Z",
     "iopub.status.busy": "2022-11-05T15:58:29.969606Z",
     "iopub.status.idle": "2022-11-05T15:58:30.099861Z",
     "shell.execute_reply": "2022-11-05T15:58:30.099235Z"
    },
    "papermill": {
     "duration": 0.143371,
     "end_time": "2022-11-05T15:58:30.101511",
     "exception": false,
     "start_time": "2022-11-05T15:58:29.958140",
     "status": "completed"
    },
    "tags": []
   },
   "outputs": [
    {
     "data": {
      "text/plain": [
       "array([ True,  True, False, ...,  True,  True,  True])"
      ]
     },
     "execution_count": 17,
     "metadata": {},
     "output_type": "execute_result"
    }
   ],
   "source": [
    "train_test_split = 0.80\n",
    "\n",
    "n_interactions = URM.nnz\n",
    "\n",
    "\n",
    "train_mask = np.random.choice([True,False], n_interactions, p=[train_test_split, 1-train_test_split])\n",
    "train_mask"
   ]
  },
  {
   "cell_type": "code",
   "execution_count": 18,
   "id": "ddaf3957",
   "metadata": {
    "execution": {
     "iopub.execute_input": "2022-11-05T15:58:30.118976Z",
     "iopub.status.busy": "2022-11-05T15:58:30.118210Z",
     "iopub.status.idle": "2022-11-05T15:58:30.401646Z",
     "shell.execute_reply": "2022-11-05T15:58:30.400817Z"
    },
    "papermill": {
     "duration": 0.293754,
     "end_time": "2022-11-05T15:58:30.403349",
     "exception": false,
     "start_time": "2022-11-05T15:58:30.109595",
     "status": "completed"
    },
    "tags": []
   },
   "outputs": [
    {
     "data": {
      "text/plain": [
       "<41629x24507 sparse matrix of type '<class 'numpy.int64'>'\n",
       "\twith 1311160 stored elements in Compressed Sparse Row format>"
      ]
     },
     "execution_count": 18,
     "metadata": {},
     "output_type": "execute_result"
    }
   ],
   "source": [
    "URM_train = sps.csr_matrix((URM.data[train_mask],\n",
    "                            (URM.row[train_mask], URM.col[train_mask])))\n",
    "\n",
    "URM_train"
   ]
  },
  {
   "cell_type": "code",
   "execution_count": 19,
   "id": "f6f0002b",
   "metadata": {
    "execution": {
     "iopub.execute_input": "2022-11-05T15:58:30.420722Z",
     "iopub.status.busy": "2022-11-05T15:58:30.420098Z",
     "iopub.status.idle": "2022-11-05T15:58:30.547714Z",
     "shell.execute_reply": "2022-11-05T15:58:30.546898Z"
    },
    "papermill": {
     "duration": 0.137934,
     "end_time": "2022-11-05T15:58:30.549449",
     "exception": false,
     "start_time": "2022-11-05T15:58:30.411515",
     "status": "completed"
    },
    "tags": []
   },
   "outputs": [
    {
     "data": {
      "text/plain": [
       "<41629x24507 sparse matrix of type '<class 'numpy.int64'>'\n",
       "\twith 470216 stored elements in Compressed Sparse Row format>"
      ]
     },
     "execution_count": 19,
     "metadata": {},
     "output_type": "execute_result"
    }
   ],
   "source": [
    "test_mask = np.logical_not(train_mask)\n",
    "\n",
    "URM_test = sps.csr_matrix((URM.data[test_mask],\n",
    "                            (URM.row[test_mask], URM.col[test_mask])))\n",
    "\n",
    "URM_test"
   ]
  },
  {
   "cell_type": "markdown",
   "id": "6400c0f6",
   "metadata": {
    "papermill": {
     "duration": 0.007714,
     "end_time": "2022-11-05T15:58:30.565647",
     "exception": false,
     "start_time": "2022-11-05T15:58:30.557933",
     "status": "completed"
    },
    "tags": []
   },
   "source": [
    "### Evaluation metric\n",
    "#### We call items in the test set 'relevant"
   ]
  },
  {
   "cell_type": "code",
   "execution_count": 20,
   "id": "7aec8e26",
   "metadata": {
    "execution": {
     "iopub.execute_input": "2022-11-05T15:58:30.589785Z",
     "iopub.status.busy": "2022-11-05T15:58:30.588932Z",
     "iopub.status.idle": "2022-11-05T15:58:30.594186Z",
     "shell.execute_reply": "2022-11-05T15:58:30.593652Z"
    },
    "papermill": {
     "duration": 0.015741,
     "end_time": "2022-11-05T15:58:30.595649",
     "exception": false,
     "start_time": "2022-11-05T15:58:30.579908",
     "status": "completed"
    },
    "tags": []
   },
   "outputs": [
    {
     "data": {
      "text/plain": [
       "array([ 168,  393,  889, 3746, 3753], dtype=int32)"
      ]
     },
     "execution_count": 20,
     "metadata": {},
     "output_type": "execute_result"
    }
   ],
   "source": [
    "user_id = 124\n",
    "relevant_items = URM_test[user_id].indices\n",
    "relevant_items"
   ]
  },
  {
   "cell_type": "markdown",
   "id": "ac6342c8",
   "metadata": {
    "papermill": {
     "duration": 0.008195,
     "end_time": "2022-11-05T15:58:30.611866",
     "exception": false,
     "start_time": "2022-11-05T15:58:30.603671",
     "status": "completed"
    },
    "tags": []
   },
   "source": [
    "#### Say that we have a recommendation list such as this"
   ]
  },
  {
   "cell_type": "code",
   "execution_count": 21,
   "id": "dfba0c6c",
   "metadata": {
    "execution": {
     "iopub.execute_input": "2022-11-05T15:58:30.629325Z",
     "iopub.status.busy": "2022-11-05T15:58:30.628682Z",
     "iopub.status.idle": "2022-11-05T15:58:30.633815Z",
     "shell.execute_reply": "2022-11-05T15:58:30.633097Z"
    },
    "papermill": {
     "duration": 0.015463,
     "end_time": "2022-11-05T15:58:30.635232",
     "exception": false,
     "start_time": "2022-11-05T15:58:30.619769",
     "status": "completed"
    },
    "tags": []
   },
   "outputs": [
    {
     "data": {
      "text/plain": [
       "array([6060, 1622,   15,  857, 5823])"
      ]
     },
     "execution_count": 21,
     "metadata": {},
     "output_type": "execute_result"
    }
   ],
   "source": [
    "recommended_items = np.array([6060, 1622, 15, 857, 5823])\n",
    "recommended_items"
   ]
  },
  {
   "cell_type": "code",
   "execution_count": 22,
   "id": "98ed8070",
   "metadata": {
    "execution": {
     "iopub.execute_input": "2022-11-05T15:58:30.652630Z",
     "iopub.status.busy": "2022-11-05T15:58:30.652164Z",
     "iopub.status.idle": "2022-11-05T15:58:30.656886Z",
     "shell.execute_reply": "2022-11-05T15:58:30.656344Z"
    },
    "papermill": {
     "duration": 0.015118,
     "end_time": "2022-11-05T15:58:30.658333",
     "exception": false,
     "start_time": "2022-11-05T15:58:30.643215",
     "status": "completed"
    },
    "tags": []
   },
   "outputs": [
    {
     "data": {
      "text/plain": [
       "array([False, False, False, False, False])"
      ]
     },
     "execution_count": 22,
     "metadata": {},
     "output_type": "execute_result"
    }
   ],
   "source": [
    "is_relevant = np.in1d(recommended_items, relevant_items, assume_unique=True)\n",
    "is_relevant"
   ]
  },
  {
   "cell_type": "markdown",
   "id": "b3f4d070",
   "metadata": {
    "papermill": {
     "duration": 0.008009,
     "end_time": "2022-11-05T15:58:30.674754",
     "exception": false,
     "start_time": "2022-11-05T15:58:30.666745",
     "status": "completed"
    },
    "tags": []
   },
   "source": [
    "### Precision: how many of the recommended items are relevant"
   ]
  },
  {
   "cell_type": "code",
   "execution_count": 23,
   "id": "66516e7e",
   "metadata": {
    "execution": {
     "iopub.execute_input": "2022-11-05T15:58:30.694154Z",
     "iopub.status.busy": "2022-11-05T15:58:30.693639Z",
     "iopub.status.idle": "2022-11-05T15:58:30.697757Z",
     "shell.execute_reply": "2022-11-05T15:58:30.697125Z"
    },
    "papermill": {
     "duration": 0.014923,
     "end_time": "2022-11-05T15:58:30.699181",
     "exception": false,
     "start_time": "2022-11-05T15:58:30.684258",
     "status": "completed"
    },
    "tags": []
   },
   "outputs": [],
   "source": [
    "def precision(recommended_items, relevant_items):\n",
    "    \n",
    "    is_relevant = np.in1d(recommended_items, relevant_items, assume_unique=True)\n",
    "    \n",
    "    precision_score = np.sum(is_relevant, dtype=np.float32) / len(is_relevant)\n",
    "    \n",
    "    return precision_score"
   ]
  },
  {
   "cell_type": "code",
   "execution_count": 24,
   "id": "a58379a2",
   "metadata": {
    "execution": {
     "iopub.execute_input": "2022-11-05T15:58:30.717045Z",
     "iopub.status.busy": "2022-11-05T15:58:30.716601Z",
     "iopub.status.idle": "2022-11-05T15:58:30.720516Z",
     "shell.execute_reply": "2022-11-05T15:58:30.719951Z"
    },
    "papermill": {
     "duration": 0.014632,
     "end_time": "2022-11-05T15:58:30.722151",
     "exception": false,
     "start_time": "2022-11-05T15:58:30.707519",
     "status": "completed"
    },
    "tags": []
   },
   "outputs": [],
   "source": [
    "def recall(recommended_items, relevant_items):\n",
    "    \n",
    "    is_relevant = np.in1d(recommended_items, relevant_items, assume_unique=True)\n",
    "    \n",
    "    recall_score = np.sum(is_relevant, dtype=np.float32) / relevant_items.shape[0]\n",
    "    \n",
    "    return recall_score"
   ]
  },
  {
   "cell_type": "code",
   "execution_count": 25,
   "id": "223cfb8a",
   "metadata": {
    "execution": {
     "iopub.execute_input": "2022-11-05T15:58:30.740256Z",
     "iopub.status.busy": "2022-11-05T15:58:30.739784Z",
     "iopub.status.idle": "2022-11-05T15:58:30.744698Z",
     "shell.execute_reply": "2022-11-05T15:58:30.743946Z"
    },
    "papermill": {
     "duration": 0.01582,
     "end_time": "2022-11-05T15:58:30.746374",
     "exception": false,
     "start_time": "2022-11-05T15:58:30.730554",
     "status": "completed"
    },
    "tags": []
   },
   "outputs": [],
   "source": [
    "def AP(recommended_items, relevant_items):\n",
    "   \n",
    "    is_relevant = np.in1d(recommended_items, relevant_items, assume_unique=True)\n",
    "    \n",
    "    # Cumulative sum: precision at 1, at 2, at 3 ...\n",
    "    p_at_k = is_relevant * np.cumsum(is_relevant, dtype=np.float32) / (1 + np.arange(is_relevant.shape[0]))\n",
    "    \n",
    "    ap_score = np.sum(p_at_k) / np.min([relevant_items.shape[0], is_relevant.shape[0]])\n",
    "\n",
    "    return ap_score"
   ]
  },
  {
   "cell_type": "code",
   "execution_count": null,
   "id": "29e150aa",
   "metadata": {
    "execution": {
     "iopub.execute_input": "2022-11-05T15:46:21.069393Z",
     "iopub.status.busy": "2022-11-05T15:46:21.068870Z",
     "iopub.status.idle": "2022-11-05T15:46:21.077793Z",
     "shell.execute_reply": "2022-11-05T15:46:21.076637Z",
     "shell.execute_reply.started": "2022-11-05T15:46:21.069351Z"
    },
    "papermill": {
     "duration": 0.008045,
     "end_time": "2022-11-05T15:58:30.762643",
     "exception": false,
     "start_time": "2022-11-05T15:58:30.754598",
     "status": "completed"
    },
    "tags": []
   },
   "outputs": [],
   "source": []
  }
 ],
 "metadata": {
  "kernelspec": {
   "display_name": "Python 3",
   "language": "python",
   "name": "python3"
  },
  "language_info": {
   "codemirror_mode": {
    "name": "ipython",
    "version": 3
   },
   "file_extension": ".py",
   "mimetype": "text/x-python",
   "name": "python",
   "nbconvert_exporter": "python",
   "pygments_lexer": "ipython3",
   "version": "3.7.12"
  },
  "papermill": {
   "default_parameters": {},
   "duration": 11.983496,
   "end_time": "2022-11-05T15:58:31.288750",
   "environment_variables": {},
   "exception": null,
   "input_path": "__notebook__.ipynb",
   "output_path": "__notebook__.ipynb",
   "parameters": {},
   "start_time": "2022-11-05T15:58:19.305254",
   "version": "2.3.4"
  }
 },
 "nbformat": 4,
 "nbformat_minor": 5
}
